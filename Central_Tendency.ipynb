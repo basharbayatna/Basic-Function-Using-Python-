{
  "nbformat": 4,
  "nbformat_minor": 0,
  "metadata": {
    "colab": {
      "provenance": [],
      "authorship_tag": "ABX9TyM6s6Bpy3phrToBQJL23pyn",
      "include_colab_link": true
    },
    "kernelspec": {
      "name": "python3",
      "display_name": "Python 3"
    },
    "language_info": {
      "name": "python"
    }
  },
  "cells": [
    {
      "cell_type": "markdown",
      "metadata": {
        "id": "view-in-github",
        "colab_type": "text"
      },
      "source": [
        "<a href=\"https://colab.research.google.com/github/basharbayatna/Basic-Function-Using-Python-/blob/main/Central_Tendency.ipynb\" target=\"_parent\"><img src=\"https://colab.research.google.com/assets/colab-badge.svg\" alt=\"Open In Colab\"/></a>"
      ]
    },
    {
      "cell_type": "code",
      "execution_count": null,
      "metadata": {
        "colab": {
          "base_uri": "https://localhost:8080/"
        },
        "id": "177l2OCFoPqN",
        "outputId": "2fbc9e68-116d-40ec-81c3-901e07d1f96b"
      },
      "outputs": [
        {
          "output_type": "stream",
          "name": "stdout",
          "text": [
            " The mean is 62.57 \n",
            " The median is 62.0 \n",
            " The mode is 62\n"
          ]
        }
      ],
      "source": [
        "# Import the library and the mode from statistics\n",
        "\n",
        "import numpy as np\n",
        "from statistics import mode\n",
        "\n",
        "\n",
        "# List the DATA\n",
        "\n",
        "week_1 = [45, 55 , 49 , 60 , 52 , 55 , 58]\n",
        "week_2 = [51, 49 , 62 , 50 , 53 , 56 , 59]\n",
        "week_3 = [60, 60 , 61 , 62 , 57 , 59 , 58]\n",
        "week_4 = [59, 63 , 62 , 61 , 65 , 66 , 62]\n",
        "\n",
        "\n",
        "#np.mean(temps)\n",
        "#np.median(temps)\n",
        "#mode(temps)\n",
        "\n",
        "# def out function'central_trndency'\n",
        "\n",
        "def central_tendency(temps, verbose = True):\n",
        "\n",
        "\n",
        "#using the libraries calculate mean,median,mode\n",
        "\n",
        "   mean_temp = round (np.mean(temps),2)\n",
        "   meadian_temp = float(np.median(temps))\n",
        "   mode_temp =  mode(temps)\n",
        "\n",
        "\n",
        "   #return round(mean_temp,2),  meadian_temp , mode_temp\n",
        "   # using the verbose condition\n",
        "\n",
        "   if verbose == True:\n",
        "    print(f' The mean is {mean_temp} \\n The median is {meadian_temp} \\n The mode is {mode_temp}')\n",
        "\n",
        "   else:\n",
        "         return mean_temp,  meadian_temp , mode_temp\n",
        "\n",
        "\n",
        "central_tendency(week_4, True)\n",
        "\n",
        "\n"
      ]
    }
  ]
}